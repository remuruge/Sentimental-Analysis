{
 "cells": [
  {
   "cell_type": "code",
   "execution_count": 143,
   "metadata": {},
   "outputs": [],
   "source": [
    "#Importing the liberaries\n",
    "import pandas as pd\n",
    "import numpy as np\n",
    "import statistics\n",
    "import seaborn as sns\n",
    "import matplotlib.pyplot as plt\n",
    "%matplotlib inline\n",
    "from scipy import stats\n",
    "import pickle\n",
    "from sklearn import model_selection, preprocessing, linear_model, naive_bayes, metrics, svm"
   ]
  },
  {
   "cell_type": "markdown",
   "metadata": {},
   "source": [
    "# 1. Get Data"
   ]
  },
  {
   "cell_type": "code",
   "execution_count": 144,
   "metadata": {},
   "outputs": [],
   "source": [
    "input_df = pd.read_excel(\"feedback.xlsx\")"
   ]
  },
  {
   "cell_type": "code",
   "execution_count": 145,
   "metadata": {},
   "outputs": [],
   "source": [
    "# Remove white spaces from Date fields\n",
    "input_df.replace('\\n','', regex=True, inplace = True)"
   ]
  },
  {
   "cell_type": "code",
   "execution_count": 146,
   "metadata": {},
   "outputs": [
    {
     "data": {
      "text/html": [
       "<div>\n",
       "<style scoped>\n",
       "    .dataframe tbody tr th:only-of-type {\n",
       "        vertical-align: middle;\n",
       "    }\n",
       "\n",
       "    .dataframe tbody tr th {\n",
       "        vertical-align: top;\n",
       "    }\n",
       "\n",
       "    .dataframe thead th {\n",
       "        text-align: right;\n",
       "    }\n",
       "</style>\n",
       "<table border=\"1\" class=\"dataframe\">\n",
       "  <thead>\n",
       "    <tr style=\"text-align: right;\">\n",
       "      <th></th>\n",
       "      <th>S.No.</th>\n",
       "      <th>Date</th>\n",
       "      <th>Comment</th>\n",
       "      <th>Tags</th>\n",
       "    </tr>\n",
       "  </thead>\n",
       "  <tbody>\n",
       "    <tr>\n",
       "      <th>0</th>\n",
       "      <td>1</td>\n",
       "      <td>‎01‎ ‎Apr‎ ‎2017</td>\n",
       "      <td>What a complete and utter shambles. My wife ra...</td>\n",
       "      <td>#Loan#Refund#Overpayment</td>\n",
       "    </tr>\n",
       "    <tr>\n",
       "      <th>1</th>\n",
       "      <td>2</td>\n",
       "      <td>‎01‎ ‎Apr‎ ‎2017</td>\n",
       "      <td>Another absolutely feckless conversation with ...</td>\n",
       "      <td>#Loan#Payments#SLC</td>\n",
       "    </tr>\n",
       "    <tr>\n",
       "      <th>2</th>\n",
       "      <td>3</td>\n",
       "      <td>‎15‎ ‎May‎ ‎2017</td>\n",
       "      <td>Paid off student loan 6 years ago - then sudde...</td>\n",
       "      <td>#Loan#StudentLoan</td>\n",
       "    </tr>\n",
       "    <tr>\n",
       "      <th>3</th>\n",
       "      <td>4</td>\n",
       "      <td>‎24‎ ‎Sep‎ ‎2018</td>\n",
       "      <td>If I could \"leave no star\" - as a previous rev...</td>\n",
       "      <td>#SLC#Loan#customer</td>\n",
       "    </tr>\n",
       "    <tr>\n",
       "      <th>4</th>\n",
       "      <td>5</td>\n",
       "      <td>‎17‎ ‎Sep‎ ‎2018</td>\n",
       "      <td>If there were no star they would deserve it. I...</td>\n",
       "      <td>#MaintenanceLoan#Loan#HMRC</td>\n",
       "    </tr>\n",
       "  </tbody>\n",
       "</table>\n",
       "</div>"
      ],
      "text/plain": [
       "   S.No.                 Date  \\\n",
       "0      1     ‎01‎ ‎Apr‎ ‎2017   \n",
       "1      2     ‎01‎ ‎Apr‎ ‎2017   \n",
       "2      3     ‎15‎ ‎May‎ ‎2017   \n",
       "3      4  ‎24‎ ‎Sep‎ ‎2018      \n",
       "4      5     ‎17‎ ‎Sep‎ ‎2018   \n",
       "\n",
       "                                             Comment  \\\n",
       "0  What a complete and utter shambles. My wife ra...   \n",
       "1  Another absolutely feckless conversation with ...   \n",
       "2  Paid off student loan 6 years ago - then sudde...   \n",
       "3  If I could \"leave no star\" - as a previous rev...   \n",
       "4  If there were no star they would deserve it. I...   \n",
       "\n",
       "                         Tags  \n",
       "0    #Loan#Refund#Overpayment  \n",
       "1          #Loan#Payments#SLC  \n",
       "2           #Loan#StudentLoan  \n",
       "3          #SLC#Loan#customer  \n",
       "4  #MaintenanceLoan#Loan#HMRC  "
      ]
     },
     "execution_count": 146,
     "metadata": {},
     "output_type": "execute_result"
    }
   ],
   "source": [
    "input_df.head()\n",
    "# y=feedback_df.Tags"
   ]
  },
  {
   "cell_type": "markdown",
   "metadata": {},
   "source": [
    "# Sentimental Analysis"
   ]
  },
  {
   "cell_type": "code",
   "execution_count": 148,
   "metadata": {},
   "outputs": [],
   "source": [
    "feedback_df1 = input_df.drop('S.No.', axis=1)"
   ]
  },
  {
   "cell_type": "code",
   "execution_count": 149,
   "metadata": {},
   "outputs": [
    {
     "name": "stdout",
     "output_type": "stream",
     "text": [
      "<class 'pandas.core.frame.DataFrame'>\n",
      "RangeIndex: 96 entries, 0 to 95\n",
      "Data columns (total 3 columns):\n",
      "Date       43 non-null object\n",
      "Comment    96 non-null object\n",
      "Tags       95 non-null object\n",
      "dtypes: object(3)\n",
      "memory usage: 2.3+ KB\n"
     ]
    }
   ],
   "source": [
    "# No. of rows and columns\n",
    "feedback_df1.shape\n",
    "# Size of the dataset is small for building the model\n",
    "feedback_df1.info()"
   ]
  },
  {
   "cell_type": "code",
   "execution_count": 150,
   "metadata": {},
   "outputs": [
    {
     "name": "stdout",
     "output_type": "stream",
     "text": [
      "96\n"
     ]
    }
   ],
   "source": [
    "comment_df = feedback_df1['Comment']\n",
    "comment_list = comment_df.tolist()\n",
    "print(len(comment_list))"
   ]
  },
  {
   "cell_type": "code",
   "execution_count": 152,
   "metadata": {},
   "outputs": [],
   "source": [
    "# import nltk\n",
    "# nltk.download_gui()\n",
    "# (or)\n",
    "# Download from anaconda prompt - python -m nltk.downloader brown and python -m nltk.downloader abc\n",
    "\n",
    "from vaderSentiment.vaderSentiment import SentimentIntensityAnalyzer\n",
    "analyser = SentimentIntensityAnalyzer()"
   ]
  },
  {
   "cell_type": "code",
   "execution_count": 170,
   "metadata": {},
   "outputs": [
    {
     "data": {
      "text/html": [
       "<div>\n",
       "<style scoped>\n",
       "    .dataframe tbody tr th:only-of-type {\n",
       "        vertical-align: middle;\n",
       "    }\n",
       "\n",
       "    .dataframe tbody tr th {\n",
       "        vertical-align: top;\n",
       "    }\n",
       "\n",
       "    .dataframe thead th {\n",
       "        text-align: right;\n",
       "    }\n",
       "</style>\n",
       "<table border=\"1\" class=\"dataframe\">\n",
       "  <thead>\n",
       "    <tr style=\"text-align: right;\">\n",
       "      <th></th>\n",
       "      <th>Comment</th>\n",
       "      <th>compound</th>\n",
       "      <th>neg</th>\n",
       "      <th>neu</th>\n",
       "      <th>pos</th>\n",
       "    </tr>\n",
       "  </thead>\n",
       "  <tbody>\n",
       "    <tr>\n",
       "      <th>0</th>\n",
       "      <td>What a complete and utter shambles. My wife ra...</td>\n",
       "      <td>0.3987</td>\n",
       "      <td>0.000</td>\n",
       "      <td>0.974</td>\n",
       "      <td>0.026</td>\n",
       "    </tr>\n",
       "    <tr>\n",
       "      <th>1</th>\n",
       "      <td>Another absolutely feckless conversation with ...</td>\n",
       "      <td>-0.8743</td>\n",
       "      <td>0.103</td>\n",
       "      <td>0.897</td>\n",
       "      <td>0.000</td>\n",
       "    </tr>\n",
       "    <tr>\n",
       "      <th>2</th>\n",
       "      <td>Paid off student loan 6 years ago - then sudde...</td>\n",
       "      <td>-0.3753</td>\n",
       "      <td>0.051</td>\n",
       "      <td>0.926</td>\n",
       "      <td>0.023</td>\n",
       "    </tr>\n",
       "    <tr>\n",
       "      <th>3</th>\n",
       "      <td>If I could \"leave no star\" - as a previous rev...</td>\n",
       "      <td>-0.8121</td>\n",
       "      <td>0.096</td>\n",
       "      <td>0.850</td>\n",
       "      <td>0.054</td>\n",
       "    </tr>\n",
       "    <tr>\n",
       "      <th>4</th>\n",
       "      <td>If there were no star they would deserve it. I...</td>\n",
       "      <td>-0.8930</td>\n",
       "      <td>0.084</td>\n",
       "      <td>0.886</td>\n",
       "      <td>0.030</td>\n",
       "    </tr>\n",
       "  </tbody>\n",
       "</table>\n",
       "</div>"
      ],
      "text/plain": [
       "                                             Comment  compound    neg    neu  \\\n",
       "0  What a complete and utter shambles. My wife ra...    0.3987  0.000  0.974   \n",
       "1  Another absolutely feckless conversation with ...   -0.8743  0.103  0.897   \n",
       "2  Paid off student loan 6 years ago - then sudde...   -0.3753  0.051  0.926   \n",
       "3  If I could \"leave no star\" - as a previous rev...   -0.8121  0.096  0.850   \n",
       "4  If there were no star they would deserve it. I...   -0.8930  0.084  0.886   \n",
       "\n",
       "     pos  \n",
       "0  0.026  \n",
       "1  0.000  \n",
       "2  0.023  \n",
       "3  0.054  \n",
       "4  0.030  "
      ]
     },
     "execution_count": 170,
     "metadata": {},
     "output_type": "execute_result"
    }
   ],
   "source": [
    "pre_processed_text_new = []\n",
    "for text in comment_list:\n",
    "    score = analyser.polarity_scores(text)\n",
    "#     print(\"{}\".format(str(score)))\n",
    "    pre_processed_text_new.append(score)\n",
    "pre_processed_text_df = pd.DataFrame(pre_processed_text_new)\n",
    "sentiment_df = pd.concat([comment_df, pre_processed_text_df],axis=1)\n",
    "sentiment_df.head()"
   ]
  },
  {
   "cell_type": "code",
   "execution_count": 177,
   "metadata": {},
   "outputs": [
    {
     "data": {
      "text/plain": [
       "<Figure size 576x432 with 0 Axes>"
      ]
     },
     "metadata": {},
     "output_type": "display_data"
    },
    {
     "data": {
      "image/png": "[encoded data removed]",
      "text/plain": [
       "<Figure size 720x360 with 1 Axes>"
      ]
     },
     "metadata": {
      "needs_background": "light"
     },
     "output_type": "display_data"
    }
   ],
   "source": [
    "import seaborn as sns\n",
    "plt.figure(figsize=(8,6))\n",
    "term_freq_df2 = sentiment_df[['neg','pos','neu','compound']]\n",
    "# ax = sns.regplot(x=\"negative\", y=\"positive\",fit_reg=False, scatter_kws={'alpha':0.5},data=term_freq_df2)\n",
    "# plt.ylabel('Positive Frequency')\n",
    "# plt.xlabel('Negative Frequency')\n",
    "# plt.title('Negative Frequency vs Positive Frequency')\n",
    "\n",
    "fig = plt.figure(figsize=(10,5))\n",
    "sns.distplot(term_freq_df2['compound'], bins=15)\n",
    "plt.show()\n"
   ]
  },
  {
   "cell_type": "code",
   "execution_count": 178,
   "metadata": {},
   "outputs": [
    {
     "data": {
      "image/png": "[encoded data removed]",
      "text/plain": [
       "<Figure size 720x360 with 1 Axes>"
      ]
     },
     "metadata": {
      "needs_background": "light"
     },
     "output_type": "display_data"
    }
   ],
   "source": [
    "fig = plt.figure(figsize=(10,5))\n",
    "sns.distplot(term_freq_df2['pos'], bins=15)\n",
    "plt.show()"
   ]
  },
  {
   "cell_type": "code",
   "execution_count": 179,
   "metadata": {},
   "outputs": [
    {
     "data": {
      "image/png": "[encoded data removed]",
      "text/plain": [
       "<Figure size 720x360 with 1 Axes>"
      ]
     },
     "metadata": {
      "needs_background": "light"
     },
     "output_type": "display_data"
    }
   ],
   "source": [
    "fig = plt.figure(figsize=(10,5))\n",
    "sns.distplot(term_freq_df2['neg'], bins=15)\n",
    "plt.show()"
   ]
  },
  {
   "cell_type": "code",
   "execution_count": 180,
   "metadata": {},
   "outputs": [
    {
     "data": {
      "image/png": "[encoded data removed]",
      "text/plain": [
       "<Figure size 720x360 with 1 Axes>"
      ]
     },
     "metadata": {
      "needs_background": "light"
     },
     "output_type": "display_data"
    }
   ],
   "source": [
    "fig = plt.figure(figsize=(10,5))\n",
    "sns.distplot(term_freq_df2['neu'], bins=15)\n",
    "plt.show()"
   ]
  },
  {
   "cell_type": "markdown",
   "metadata": {},
   "source": [
    "# Text Classification"
   ]
  },
  {
   "cell_type": "code",
   "execution_count": 130,
   "metadata": {},
   "outputs": [
    {
     "data": {
      "text/html": [
       "<div>\n",
       "<style scoped>\n",
       "    .dataframe tbody tr th:only-of-type {\n",
       "        vertical-align: middle;\n",
       "    }\n",
       "\n",
       "    .dataframe tbody tr th {\n",
       "        vertical-align: top;\n",
       "    }\n",
       "\n",
       "    .dataframe thead th {\n",
       "        text-align: right;\n",
       "    }\n",
       "</style>\n",
       "<table border=\"1\" class=\"dataframe\">\n",
       "  <thead>\n",
       "    <tr style=\"text-align: right;\">\n",
       "      <th></th>\n",
       "      <th>Comment</th>\n",
       "      <th>Tags</th>\n",
       "    </tr>\n",
       "  </thead>\n",
       "  <tbody>\n",
       "    <tr>\n",
       "      <th>0</th>\n",
       "      <td>What a complete and utter shambles. My wife ra...</td>\n",
       "      <td>#Loan#Refund#Overpayment</td>\n",
       "    </tr>\n",
       "    <tr>\n",
       "      <th>1</th>\n",
       "      <td>Can you please confirm what funds exactly you ...</td>\n",
       "      <td>#Overseas#Payment</td>\n",
       "    </tr>\n",
       "    <tr>\n",
       "      <th>2</th>\n",
       "      <td>Your online system doesn't work, and you're un...</td>\n",
       "      <td>#Overseas#Repayment#Communication</td>\n",
       "    </tr>\n",
       "    <tr>\n",
       "      <th>3</th>\n",
       "      <td>The deal was, 'you don't have to pay back any ...</td>\n",
       "      <td>#Overseas#Repayment</td>\n",
       "    </tr>\n",
       "    <tr>\n",
       "      <th>4</th>\n",
       "      <td>Why is your website impossible to login to? It...</td>\n",
       "      <td>#website</td>\n",
       "    </tr>\n",
       "  </tbody>\n",
       "</table>\n",
       "</div>"
      ],
      "text/plain": [
       "                                             Comment  \\\n",
       "0  What a complete and utter shambles. My wife ra...   \n",
       "1  Can you please confirm what funds exactly you ...   \n",
       "2  Your online system doesn't work, and you're un...   \n",
       "3  The deal was, 'you don't have to pay back any ...   \n",
       "4  Why is your website impossible to login to? It...   \n",
       "\n",
       "                                Tags  \n",
       "0           #Loan#Refund#Overpayment  \n",
       "1                  #Overseas#Payment  \n",
       "2  #Overseas#Repayment#Communication  \n",
       "3                #Overseas#Repayment  \n",
       "4                           #website  "
      ]
     },
     "execution_count": 130,
     "metadata": {},
     "output_type": "execute_result"
    }
   ],
   "source": [
    "# split the dataset into training and validation datasets \n",
    "trainDF = pd.DataFrame()\n",
    "trainDF['text'] = input_df['Comment']\n",
    "trainDF['label'] = input_df['Tags']\n",
    "train_x, valid_x, train_y, valid_y = model_selection.train_test_split(trainDF['text'], trainDF['label'])\n",
    "feedback_df = pd.DataFrame()\n",
    "feedback_df['Comment'] = train_x\n",
    "feedback_df['Tags'] = train_y\n",
    "feedback_df = feedback_df.reset_index(drop=True)\n",
    "feedback_df.head()"
   ]
  },
  {
   "cell_type": "markdown",
   "metadata": {},
   "source": [
    "# 2. Clean Data\n",
    "\n",
    "With text data, this cleaning process can go on forever. There's always an exception to every cleaning step. So, we're going to follow the MVP (minimum viable product) approach - start simple and iterate. Here are a bunch of things you can do to clean your data. We're going to execute just the common cleaning steps here and the rest can be done at a later point to improve our results.\n",
    "\n",
    "**Common data cleaning steps on all text:**\n",
    "* Make text all lower case\n",
    "* Remove punctuation\n",
    "* Remove numerical values\n",
    "* Remove common non-sensical text (/n)\n",
    "* Tokenize text\n",
    "* Remove stop words\n",
    "\n",
    "**More data cleaning steps after tokenization:**\n",
    "* Stemming / lemmatization\n",
    "* Parts of speech tagging\n",
    "* Create bi-grams or tri-grams\n",
    "* Deal with typos\n",
    "* And more...\n"
   ]
  },
  {
   "cell_type": "code",
   "execution_count": 26,
   "metadata": {},
   "outputs": [],
   "source": [
    "# Apply a first round of text cleaning techniques\n",
    "\n",
    "import re\n",
    "import string\n",
    "\n",
    "def clean_text_round1(text):\n",
    "    '''Make text lowercase, remove text in square brackets, remove punctuation and remove words containing numbers.'''\n",
    "    text = text.lower()\n",
    "    text = re.sub('\\[.*?\\]', '', text)\n",
    "    text = re.sub('[%s]' % re.escape(string.punctuation), '', text)\n",
    "    text = re.sub('\\w*\\d\\w*', '', text)\n",
    "    return text\n",
    "\n",
    "round1 = lambda x: clean_text_round1(x)"
   ]
  },
  {
   "cell_type": "code",
   "execution_count": 27,
   "metadata": {},
   "outputs": [],
   "source": [
    "data_clean_r1 = pd.DataFrame(feedback_df['Comment'].apply(round1))"
   ]
  },
  {
   "cell_type": "code",
   "execution_count": 30,
   "metadata": {},
   "outputs": [],
   "source": [
    "# Apply a second round of cleaning\n",
    "def clean_text_round2(text):\n",
    "    '''Get rid of some additional punctuation and non-sensical text that was missed the first time around.'''\n",
    "    text = re.sub('[‘’“”…]', '', text)\n",
    "    text = re.sub('\\n', '', text)\n",
    "    return text\n",
    "\n",
    "round2 = lambda x: clean_text_round2(x)"
   ]
  },
  {
   "cell_type": "code",
   "execution_count": 31,
   "metadata": {},
   "outputs": [],
   "source": [
    "data_clean_r2 = pd.DataFrame(data_clean_r1['Comment'].apply(round2))"
   ]
  },
  {
   "cell_type": "code",
   "execution_count": null,
   "metadata": {},
   "outputs": [],
   "source": [
    "# data_clean_r['Tags'] = feedback_df['Tags']\n",
    "data_clean_r2\n",
    "data_clean_r2.to_pickle(\"data_clean_r2.pkl\")"
   ]
  },
  {
   "cell_type": "code",
   "execution_count": 39,
   "metadata": {},
   "outputs": [],
   "source": [
    "### Document-Term Matrix\n",
    "\n",
    "# For many of the techniques we'll be using in future notebooks, the text must be tokenized, meaning broken down into smaller pieces. The most common tokenization technique is to break down text into words. We can do this using scikit-learn's CountVectorizer, where every row will represent a different document and every column will represent a different word.\n",
    "# In addition, with CountVectorizer, we can remove stop words. Stop words are common words that add no additional meaning to text such as 'a', 'the', etc."
   ]
  },
  {
   "cell_type": "code",
   "execution_count": 45,
   "metadata": {},
   "outputs": [
    {
     "data": {
      "text/html": [
       "<div>\n",
       "<style scoped>\n",
       "    .dataframe tbody tr th:only-of-type {\n",
       "        vertical-align: middle;\n",
       "    }\n",
       "\n",
       "    .dataframe tbody tr th {\n",
       "        vertical-align: top;\n",
       "    }\n",
       "\n",
       "    .dataframe thead th {\n",
       "        text-align: right;\n",
       "    }\n",
       "</style>\n",
       "<table border=\"1\" class=\"dataframe\">\n",
       "  <thead>\n",
       "    <tr style=\"text-align: right;\">\n",
       "      <th></th>\n",
       "      <th>abhorrent</th>\n",
       "      <th>ability</th>\n",
       "      <th>able</th>\n",
       "      <th>abroad</th>\n",
       "      <th>absolute</th>\n",
       "      <th>absolutely</th>\n",
       "      <th>abysmal</th>\n",
       "      <th>accents</th>\n",
       "      <th>accept</th>\n",
       "      <th>accepted</th>\n",
       "      <th>...</th>\n",
       "      <th>years</th>\n",
       "      <th>yearspity</th>\n",
       "      <th>yearsshe</th>\n",
       "      <th>youdont</th>\n",
       "      <th>youll</th>\n",
       "      <th>youn</th>\n",
       "      <th>young</th>\n",
       "      <th>youre</th>\n",
       "      <th>youve</th>\n",
       "      <th>zero</th>\n",
       "    </tr>\n",
       "  </thead>\n",
       "  <tbody>\n",
       "    <tr>\n",
       "      <th>0</th>\n",
       "      <td>0</td>\n",
       "      <td>0</td>\n",
       "      <td>0</td>\n",
       "      <td>0</td>\n",
       "      <td>0</td>\n",
       "      <td>0</td>\n",
       "      <td>0</td>\n",
       "      <td>0</td>\n",
       "      <td>0</td>\n",
       "      <td>0</td>\n",
       "      <td>...</td>\n",
       "      <td>0</td>\n",
       "      <td>0</td>\n",
       "      <td>0</td>\n",
       "      <td>0</td>\n",
       "      <td>0</td>\n",
       "      <td>0</td>\n",
       "      <td>0</td>\n",
       "      <td>0</td>\n",
       "      <td>0</td>\n",
       "      <td>0</td>\n",
       "    </tr>\n",
       "    <tr>\n",
       "      <th>1</th>\n",
       "      <td>0</td>\n",
       "      <td>0</td>\n",
       "      <td>0</td>\n",
       "      <td>0</td>\n",
       "      <td>0</td>\n",
       "      <td>1</td>\n",
       "      <td>0</td>\n",
       "      <td>0</td>\n",
       "      <td>0</td>\n",
       "      <td>0</td>\n",
       "      <td>...</td>\n",
       "      <td>0</td>\n",
       "      <td>0</td>\n",
       "      <td>0</td>\n",
       "      <td>0</td>\n",
       "      <td>0</td>\n",
       "      <td>0</td>\n",
       "      <td>0</td>\n",
       "      <td>0</td>\n",
       "      <td>0</td>\n",
       "      <td>0</td>\n",
       "    </tr>\n",
       "    <tr>\n",
       "      <th>2</th>\n",
       "      <td>0</td>\n",
       "      <td>0</td>\n",
       "      <td>0</td>\n",
       "      <td>0</td>\n",
       "      <td>1</td>\n",
       "      <td>0</td>\n",
       "      <td>0</td>\n",
       "      <td>0</td>\n",
       "      <td>0</td>\n",
       "      <td>0</td>\n",
       "      <td>...</td>\n",
       "      <td>1</td>\n",
       "      <td>0</td>\n",
       "      <td>0</td>\n",
       "      <td>0</td>\n",
       "      <td>0</td>\n",
       "      <td>0</td>\n",
       "      <td>0</td>\n",
       "      <td>0</td>\n",
       "      <td>0</td>\n",
       "      <td>0</td>\n",
       "    </tr>\n",
       "    <tr>\n",
       "      <th>3</th>\n",
       "      <td>0</td>\n",
       "      <td>0</td>\n",
       "      <td>0</td>\n",
       "      <td>0</td>\n",
       "      <td>0</td>\n",
       "      <td>0</td>\n",
       "      <td>0</td>\n",
       "      <td>0</td>\n",
       "      <td>0</td>\n",
       "      <td>0</td>\n",
       "      <td>...</td>\n",
       "      <td>0</td>\n",
       "      <td>0</td>\n",
       "      <td>0</td>\n",
       "      <td>0</td>\n",
       "      <td>0</td>\n",
       "      <td>0</td>\n",
       "      <td>0</td>\n",
       "      <td>0</td>\n",
       "      <td>1</td>\n",
       "      <td>1</td>\n",
       "    </tr>\n",
       "    <tr>\n",
       "      <th>4</th>\n",
       "      <td>0</td>\n",
       "      <td>0</td>\n",
       "      <td>0</td>\n",
       "      <td>0</td>\n",
       "      <td>2</td>\n",
       "      <td>0</td>\n",
       "      <td>0</td>\n",
       "      <td>0</td>\n",
       "      <td>0</td>\n",
       "      <td>0</td>\n",
       "      <td>...</td>\n",
       "      <td>0</td>\n",
       "      <td>0</td>\n",
       "      <td>0</td>\n",
       "      <td>0</td>\n",
       "      <td>0</td>\n",
       "      <td>0</td>\n",
       "      <td>0</td>\n",
       "      <td>0</td>\n",
       "      <td>0</td>\n",
       "      <td>0</td>\n",
       "    </tr>\n",
       "  </tbody>\n",
       "</table>\n",
       "<p>5 rows × 1239 columns</p>\n",
       "</div>"
      ],
      "text/plain": [
       "   abhorrent  ability  able  abroad  absolute  absolutely  abysmal  accents  \\\n",
       "0          0        0     0       0         0           0        0        0   \n",
       "1          0        0     0       0         0           1        0        0   \n",
       "2          0        0     0       0         1           0        0        0   \n",
       "3          0        0     0       0         0           0        0        0   \n",
       "4          0        0     0       0         2           0        0        0   \n",
       "\n",
       "   accept  accepted  ...   years  yearspity  yearsshe  youdont  youll  youn  \\\n",
       "0       0         0  ...       0          0         0        0      0     0   \n",
       "1       0         0  ...       0          0         0        0      0     0   \n",
       "2       0         0  ...       1          0         0        0      0     0   \n",
       "3       0         0  ...       0          0         0        0      0     0   \n",
       "4       0         0  ...       0          0         0        0      0     0   \n",
       "\n",
       "   young  youre  youve  zero  \n",
       "0      0      0      0     0  \n",
       "1      0      0      0     0  \n",
       "2      0      0      0     0  \n",
       "3      0      0      1     1  \n",
       "4      0      0      0     0  \n",
       "\n",
       "[5 rows x 1239 columns]"
      ]
     },
     "execution_count": 45,
     "metadata": {},
     "output_type": "execute_result"
    }
   ],
   "source": [
    "# We are going to create a document-term matrix using CountVectorizer, and exclude common English stop words\n",
    "from sklearn.feature_extraction.text import CountVectorizer\n",
    "\n",
    "cv = CountVectorizer(stop_words='english')\n",
    "data_cv_r = cv.fit_transform(data_clean_r2.Comment)\n",
    "data_dtm_r = pd.DataFrame(data_cv_r.toarray(), columns=cv.get_feature_names())\n",
    "data_dtm_r.index = data_clean_r.index\n",
    "data_dtm_r.head()"
   ]
  },
  {
   "cell_type": "code",
   "execution_count": 44,
   "metadata": {},
   "outputs": [],
   "source": [
    "# Exclude most common occuring words"
   ]
  },
  {
   "cell_type": "code",
   "execution_count": 69,
   "metadata": {},
   "outputs": [
    {
     "data": {
      "text/plain": [
       "['slc',\n",
       " 'loan',\n",
       " 'money',\n",
       " 'email',\n",
       " 'pay',\n",
       " 'phone',\n",
       " 'just',\n",
       " 'address',\n",
       " 'company',\n",
       " 'year',\n",
       " 'contact',\n",
       " 'payments',\n",
       " 'student',\n",
       " 'letters',\n",
       " 'like',\n",
       " 'send',\n",
       " 'overseas',\n",
       " 'people',\n",
       " 'time',\n",
       " 'account',\n",
       " 'letter',\n",
       " 'live',\n",
       " 'paid',\n",
       " 'dont',\n",
       " 'im',\n",
       " 'payment',\n",
       " 'told',\n",
       " 'website',\n",
       " 'make',\n",
       " 'rate',\n",
       " 'service',\n",
       " 'trying',\n",
       " 'uk',\n",
       " 'want',\n",
       " 'details',\n",
       " 'date',\n",
       " 'sending',\n",
       " 'sent',\n",
       " 'staff',\n",
       " 'called',\n",
       " 'customer',\n",
       " 'evidence',\n",
       " 'number',\n",
       " 'received',\n",
       " 'terrible',\n",
       " 'years',\n",
       " 'asked',\n",
       " 'balance',\n",
       " 'completely',\n",
       " 'did',\n",
       " 'emails',\n",
       " 'exchange',\n",
       " 'hold',\n",
       " 'hours',\n",
       " 'monthly',\n",
       " 'online',\n",
       " 'paying',\n",
       " 'provide',\n",
       " 'repayments',\n",
       " 'said',\n",
       " 'use',\n",
       " 'absolute',\n",
       " 'days',\n",
       " 'doesnt',\n",
       " 'end',\n",
       " 'fees',\n",
       " 'financial',\n",
       " 'got',\n",
       " 'information',\n",
       " 'ive',\n",
       " 'know',\n",
       " 'loans',\n",
       " 'need',\n",
       " 'organisation',\n",
       " 'place',\n",
       " 'response',\n",
       " 'saying',\n",
       " 'stop',\n",
       " 'times',\n",
       " 'touch',\n",
       " 'try',\n",
       " 'unable',\n",
       " 'updated']"
      ]
     },
     "execution_count": 69,
     "metadata": {},
     "output_type": "execute_result"
    }
   ],
   "source": [
    "from collections import Counter\n",
    "\n",
    "c = Counter(**dict(data_dtm_r.sum(axis=0)))\n",
    "# get the 50 most common elements\n",
    "# c.most_common(50)\n",
    "stop_words = [word for word, count in c.most_common() if count > 6]\n",
    "stop_words"
   ]
  },
  {
   "cell_type": "code",
   "execution_count": 70,
   "metadata": {},
   "outputs": [
    {
     "data": {
      "text/plain": [
       "['email',\n",
       " 'phone',\n",
       " 'just',\n",
       " 'address',\n",
       " 'year',\n",
       " 'contact',\n",
       " 'like',\n",
       " 'send',\n",
       " 'people',\n",
       " 'time',\n",
       " 'live',\n",
       " 'paid',\n",
       " 'dont',\n",
       " 'im',\n",
       " 'told',\n",
       " 'website',\n",
       " 'make',\n",
       " 'rate',\n",
       " 'trying',\n",
       " 'want',\n",
       " 'details',\n",
       " 'date',\n",
       " 'sending',\n",
       " 'sent',\n",
       " 'staff',\n",
       " 'called',\n",
       " 'number',\n",
       " 'received',\n",
       " 'terrible',\n",
       " 'years',\n",
       " 'asked',\n",
       " 'completely',\n",
       " 'did',\n",
       " 'emails',\n",
       " 'hold',\n",
       " 'hours',\n",
       " 'monthly',\n",
       " 'provide',\n",
       " 'said',\n",
       " 'use',\n",
       " 'absolute',\n",
       " 'days',\n",
       " 'doesnt',\n",
       " 'end',\n",
       " 'got',\n",
       " 'ive',\n",
       " 'know',\n",
       " 'need',\n",
       " 'place',\n",
       " 'response',\n",
       " 'saying',\n",
       " 'stop',\n",
       " 'times',\n",
       " 'touch',\n",
       " 'try',\n",
       " 'unable',\n",
       " 'updated']"
      ]
     },
     "execution_count": 70,
     "metadata": {},
     "output_type": "execute_result"
    }
   ],
   "source": [
    "list_exclude_words = ['slc','loan','pay','company','money','payments','student','letters','overseas','account','service','fees','financial','loans','organisation','letter','payment','evidence','customer','balance','paying',\n",
    "'repayments','exchange','online','information','uk']\n",
    "\n",
    "add_stop_words = [word for word in stop_words if word not in list_exclude_words]\n",
    "add_stop_words"
   ]
  },
  {
   "cell_type": "code",
   "execution_count": 76,
   "metadata": {},
   "outputs": [],
   "source": [
    "# Let's update our document-term matrix with the new list of stop words\n",
    "from sklearn.feature_extraction import text \n",
    "from sklearn.feature_extraction.text import CountVectorizer\n",
    "\n",
    "# Add new stop words\n",
    "stop_words = text.ENGLISH_STOP_WORDS.union(add_stop_words)\n",
    "\n",
    "# Recreate document-term matrix\n",
    "cv = CountVectorizer(stop_words=stop_words)\n",
    "data_cv_r2 = cv.fit_transform(data_clean_r2.Comment)\n",
    "data_stop_r2 = pd.DataFrame(data_cv_r2.toarray(), columns=cv.get_feature_names())\n",
    "# data_stop_r2.index = data_clean_r1.index\n",
    "data_stop_r2.head()\n",
    "\n",
    "# Pickle it for later use\n",
    "import pickle\n",
    "pickle.dump(cv, open(\"cv_stop.pkl\", \"wb\"))"
   ]
  },
  {
   "cell_type": "markdown",
   "metadata": {},
   "source": [
    "# Topic Modeling - Using  Latent Dirichlet Allocation (LDA) with gensim"
   ]
  },
  {
   "cell_type": "code",
   "execution_count": 78,
   "metadata": {},
   "outputs": [],
   "source": [
    "# LDA was specifically designed for text data.\n",
    "# To use a topic modeling technique, you need to provide (1) a document-term matrix and (2) the number of topics you would like the algorithm to pick up.\n",
    "\n",
    "# Once the topic modeling technique is applied, manually the results requires to be interpreted and see if the mix of words in each topic make sense. \n",
    "# If they don't make sense, you can try changing up the number of topics, the terms in the document-term matrix, model parameters, or even try a different model."
   ]
  },
  {
   "cell_type": "code",
   "execution_count": 79,
   "metadata": {},
   "outputs": [
    {
     "data": {
      "text/html": [
       "<div>\n",
       "<style scoped>\n",
       "    .dataframe tbody tr th:only-of-type {\n",
       "        vertical-align: middle;\n",
       "    }\n",
       "\n",
       "    .dataframe tbody tr th {\n",
       "        vertical-align: top;\n",
       "    }\n",
       "\n",
       "    .dataframe thead th {\n",
       "        text-align: right;\n",
       "    }\n",
       "</style>\n",
       "<table border=\"1\" class=\"dataframe\">\n",
       "  <thead>\n",
       "    <tr style=\"text-align: right;\">\n",
       "      <th></th>\n",
       "      <th>0</th>\n",
       "      <th>1</th>\n",
       "      <th>2</th>\n",
       "      <th>3</th>\n",
       "      <th>4</th>\n",
       "      <th>5</th>\n",
       "      <th>6</th>\n",
       "      <th>7</th>\n",
       "      <th>8</th>\n",
       "      <th>9</th>\n",
       "      <th>...</th>\n",
       "      <th>86</th>\n",
       "      <th>87</th>\n",
       "      <th>88</th>\n",
       "      <th>89</th>\n",
       "      <th>90</th>\n",
       "      <th>91</th>\n",
       "      <th>92</th>\n",
       "      <th>93</th>\n",
       "      <th>94</th>\n",
       "      <th>95</th>\n",
       "    </tr>\n",
       "  </thead>\n",
       "  <tbody>\n",
       "    <tr>\n",
       "      <th>abhorrent</th>\n",
       "      <td>0</td>\n",
       "      <td>0</td>\n",
       "      <td>0</td>\n",
       "      <td>0</td>\n",
       "      <td>0</td>\n",
       "      <td>0</td>\n",
       "      <td>0</td>\n",
       "      <td>0</td>\n",
       "      <td>0</td>\n",
       "      <td>0</td>\n",
       "      <td>...</td>\n",
       "      <td>0</td>\n",
       "      <td>0</td>\n",
       "      <td>0</td>\n",
       "      <td>0</td>\n",
       "      <td>0</td>\n",
       "      <td>0</td>\n",
       "      <td>0</td>\n",
       "      <td>0</td>\n",
       "      <td>0</td>\n",
       "      <td>0</td>\n",
       "    </tr>\n",
       "    <tr>\n",
       "      <th>ability</th>\n",
       "      <td>0</td>\n",
       "      <td>0</td>\n",
       "      <td>0</td>\n",
       "      <td>0</td>\n",
       "      <td>0</td>\n",
       "      <td>0</td>\n",
       "      <td>0</td>\n",
       "      <td>0</td>\n",
       "      <td>0</td>\n",
       "      <td>0</td>\n",
       "      <td>...</td>\n",
       "      <td>0</td>\n",
       "      <td>0</td>\n",
       "      <td>0</td>\n",
       "      <td>0</td>\n",
       "      <td>0</td>\n",
       "      <td>0</td>\n",
       "      <td>0</td>\n",
       "      <td>0</td>\n",
       "      <td>0</td>\n",
       "      <td>0</td>\n",
       "    </tr>\n",
       "    <tr>\n",
       "      <th>able</th>\n",
       "      <td>0</td>\n",
       "      <td>0</td>\n",
       "      <td>0</td>\n",
       "      <td>0</td>\n",
       "      <td>0</td>\n",
       "      <td>0</td>\n",
       "      <td>0</td>\n",
       "      <td>0</td>\n",
       "      <td>0</td>\n",
       "      <td>0</td>\n",
       "      <td>...</td>\n",
       "      <td>0</td>\n",
       "      <td>0</td>\n",
       "      <td>0</td>\n",
       "      <td>0</td>\n",
       "      <td>0</td>\n",
       "      <td>0</td>\n",
       "      <td>0</td>\n",
       "      <td>0</td>\n",
       "      <td>0</td>\n",
       "      <td>0</td>\n",
       "    </tr>\n",
       "    <tr>\n",
       "      <th>abroad</th>\n",
       "      <td>0</td>\n",
       "      <td>0</td>\n",
       "      <td>0</td>\n",
       "      <td>0</td>\n",
       "      <td>0</td>\n",
       "      <td>0</td>\n",
       "      <td>0</td>\n",
       "      <td>0</td>\n",
       "      <td>0</td>\n",
       "      <td>0</td>\n",
       "      <td>...</td>\n",
       "      <td>0</td>\n",
       "      <td>0</td>\n",
       "      <td>0</td>\n",
       "      <td>0</td>\n",
       "      <td>0</td>\n",
       "      <td>0</td>\n",
       "      <td>0</td>\n",
       "      <td>0</td>\n",
       "      <td>0</td>\n",
       "      <td>0</td>\n",
       "    </tr>\n",
       "    <tr>\n",
       "      <th>absolutely</th>\n",
       "      <td>0</td>\n",
       "      <td>1</td>\n",
       "      <td>0</td>\n",
       "      <td>0</td>\n",
       "      <td>0</td>\n",
       "      <td>0</td>\n",
       "      <td>0</td>\n",
       "      <td>0</td>\n",
       "      <td>0</td>\n",
       "      <td>0</td>\n",
       "      <td>...</td>\n",
       "      <td>0</td>\n",
       "      <td>0</td>\n",
       "      <td>0</td>\n",
       "      <td>0</td>\n",
       "      <td>0</td>\n",
       "      <td>0</td>\n",
       "      <td>0</td>\n",
       "      <td>0</td>\n",
       "      <td>0</td>\n",
       "      <td>0</td>\n",
       "    </tr>\n",
       "  </tbody>\n",
       "</table>\n",
       "<p>5 rows × 96 columns</p>\n",
       "</div>"
      ],
      "text/plain": [
       "            0   1   2   3   4   5   6   7   8   9  ...  86  87  88  89  90  \\\n",
       "abhorrent    0   0   0   0   0   0   0   0   0   0 ...   0   0   0   0   0   \n",
       "ability      0   0   0   0   0   0   0   0   0   0 ...   0   0   0   0   0   \n",
       "able         0   0   0   0   0   0   0   0   0   0 ...   0   0   0   0   0   \n",
       "abroad       0   0   0   0   0   0   0   0   0   0 ...   0   0   0   0   0   \n",
       "absolutely   0   1   0   0   0   0   0   0   0   0 ...   0   0   0   0   0   \n",
       "\n",
       "            91  92  93  94  95  \n",
       "abhorrent    0   0   0   0   0  \n",
       "ability      0   0   0   0   0  \n",
       "able         0   0   0   0   0  \n",
       "abroad       0   0   0   0   0  \n",
       "absolutely   0   0   0   0   0  \n",
       "\n",
       "[5 rows x 96 columns]"
      ]
     },
     "execution_count": 79,
     "metadata": {},
     "output_type": "execute_result"
    }
   ],
   "source": [
    "from gensim import matutils, models\n",
    "import scipy.sparse\n",
    "\n",
    "# Prepare term-document matrix\n",
    "tdm = data_stop_r2.transpose()\n",
    "tdm.head()"
   ]
  },
  {
   "cell_type": "code",
   "execution_count": 80,
   "metadata": {},
   "outputs": [],
   "source": [
    "# Convert the term-document matrix into a new gensim format, from df --> sparse matrix --> gensim corpus\n",
    "sparse_counts = scipy.sparse.csr_matrix(tdm)\n",
    "corpus = matutils.Sparse2Corpus(sparse_counts)"
   ]
  },
  {
   "cell_type": "code",
   "execution_count": 81,
   "metadata": {},
   "outputs": [],
   "source": [
    "# Gensim also requires dictionary of the all terms and their respective location in the term-document matrix\n",
    "cv = pickle.load(open(\"cv_stop.pkl\", \"rb\"))\n",
    "id2word = dict((v, k) for k, v in cv.vocabulary_.items())"
   ]
  },
  {
   "cell_type": "code",
   "execution_count": 82,
   "metadata": {},
   "outputs": [],
   "source": [
    "# Now that we have the corpus (term-document matrix) and id2word (dictionary of location: term), we need to specify two other parameters - the number of topics and the number of passes. \n",
    "# Let's start the number of topics at 2, see if the results make sense, and increase the number from there."
   ]
  },
  {
   "cell_type": "code",
   "execution_count": 136,
   "metadata": {},
   "outputs": [
    {
     "data": {
      "text/plain": [
       "[(0,\n",
       "  '0.012*\"slc\" + 0.012*\"money\" + 0.009*\"loan\" + 0.008*\"company\" + 0.006*\"student\" + 0.006*\"overseas\" + 0.005*\"account\" + 0.005*\"exchange\" + 0.005*\"pay\" + 0.004*\"payments\"'),\n",
       " (1,\n",
       "  '0.011*\"loan\" + 0.010*\"pay\" + 0.009*\"letters\" + 0.009*\"slc\" + 0.007*\"money\" + 0.007*\"payments\" + 0.005*\"letter\" + 0.005*\"student\" + 0.005*\"evidence\" + 0.004*\"payment\"')]"
      ]
     },
     "execution_count": 136,
     "metadata": {},
     "output_type": "execute_result"
    }
   ],
   "source": [
    "# Now that we have the corpus (term-document matrix) and id2word (dictionary of location: term),\n",
    "# we need to specify two other parameters as well - the number of topics and the number of passes\n",
    "# LDA for num_topics = 2\n",
    "lda_2 = models.LdaModel(corpus=corpus, id2word=id2word, num_topics=2, passes=10)\n",
    "lda_2.print_topics()"
   ]
  },
  {
   "cell_type": "code",
   "execution_count": 137,
   "metadata": {},
   "outputs": [
    {
     "data": {
      "text/plain": [
       "[(0,\n",
       "  '0.015*\"money\" + 0.014*\"slc\" + 0.011*\"loan\" + 0.007*\"payments\" + 0.007*\"letters\" + 0.007*\"evidence\" + 0.006*\"account\" + 0.006*\"pay\" + 0.005*\"student\" + 0.005*\"company\"'),\n",
       " (1,\n",
       "  '0.010*\"pay\" + 0.008*\"slc\" + 0.008*\"exchange\" + 0.007*\"uk\" + 0.007*\"loan\" + 0.006*\"payments\" + 0.006*\"overseas\" + 0.006*\"service\" + 0.006*\"money\" + 0.006*\"company\"'),\n",
       " (2,\n",
       "  '0.011*\"loan\" + 0.008*\"company\" + 0.008*\"letter\" + 0.008*\"slc\" + 0.008*\"pay\" + 0.007*\"student\" + 0.005*\"letters\" + 0.005*\"service\" + 0.005*\"overseas\" + 0.004*\"payment\"')]"
      ]
     },
     "execution_count": 137,
     "metadata": {},
     "output_type": "execute_result"
    }
   ],
   "source": [
    "# LDA for num_topics = 3\n",
    "lda_3 = models.LdaModel(corpus=corpus, id2word=id2word, num_topics=3, passes=10)\n",
    "lda_3.print_topics()"
   ]
  },
  {
   "cell_type": "code",
   "execution_count": 135,
   "metadata": {},
   "outputs": [
    {
     "data": {
      "text/plain": [
       "[(0,\n",
       "  '0.011*\"exchange\" + 0.009*\"slc\" + 0.008*\"overseas\" + 0.007*\"student\" + 0.007*\"money\" + 0.007*\"outside\" + 0.006*\"answer\" + 0.006*\"service\" + 0.006*\"help\" + 0.006*\"line\"'),\n",
       " (1,\n",
       "  '0.020*\"loan\" + 0.018*\"money\" + 0.011*\"payments\" + 0.011*\"slc\" + 0.008*\"pay\" + 0.007*\"balance\" + 0.005*\"account\" + 0.005*\"financial\" + 0.005*\"letter\" + 0.005*\"given\"'),\n",
       " (2,\n",
       "  '0.012*\"pay\" + 0.011*\"company\" + 0.010*\"slc\" + 0.009*\"account\" + 0.008*\"loan\" + 0.008*\"letters\" + 0.006*\"student\" + 0.006*\"overseas\" + 0.005*\"payments\" + 0.005*\"doing\"'),\n",
       " (3,\n",
       "  '0.011*\"slc\" + 0.009*\"company\" + 0.007*\"pay\" + 0.006*\"customer\" + 0.006*\"payment\" + 0.005*\"letters\" + 0.005*\"letter\" + 0.005*\"loan\" + 0.005*\"service\" + 0.005*\"money\"')]"
      ]
     },
     "execution_count": 135,
     "metadata": {},
     "output_type": "execute_result"
    }
   ],
   "source": [
    "# LDA for num_topics = 4\n",
    "lda_4 = models.LdaModel(corpus=corpus, id2word=id2word, num_topics=4, passes=10)\n",
    "lda_4.print_topics()"
   ]
  },
  {
   "cell_type": "markdown",
   "metadata": {},
   "source": [
    "# Topic Modeling - Nouns Only\n",
    "\n",
    "One popular trick is to look only at terms that are from one part of speech (only nouns, only adjectives, etc.). Check out the UPenn tag set: https://www.ling.upenn.edu/courses/Fall_2003/ling001/penn_treebank_pos.html."
   ]
  },
  {
   "cell_type": "code",
   "execution_count": 88,
   "metadata": {},
   "outputs": [],
   "source": [
    "from nltk import word_tokenize, pos_tag\n",
    "\n",
    "def nouns(text):\n",
    "    '''Given a string of text, tokenize the text and pull out only the nouns.'''\n",
    "    is_noun = lambda pos: pos[:2] == 'NN'\n",
    "    tokenized = word_tokenize(text)\n",
    "    all_nouns = [word for (word, pos) in pos_tag(tokenized) if is_noun(pos)] \n",
    "    return ' '.join(all_nouns)"
   ]
  },
  {
   "cell_type": "code",
   "execution_count": 101,
   "metadata": {},
   "outputs": [],
   "source": [
    "# Apply the nouns function to filter only on nouns\n",
    "data_nouns_r2 = pd.DataFrame(data_clean_r2.Comment.apply(nouns))\n",
    "# data_nouns_r2"
   ]
  },
  {
   "cell_type": "code",
   "execution_count": 95,
   "metadata": {},
   "outputs": [
    {
     "data": {
      "text/html": [
       "<div>\n",
       "<style scoped>\n",
       "    .dataframe tbody tr th:only-of-type {\n",
       "        vertical-align: middle;\n",
       "    }\n",
       "\n",
       "    .dataframe tbody tr th {\n",
       "        vertical-align: top;\n",
       "    }\n",
       "\n",
       "    .dataframe thead th {\n",
       "        text-align: right;\n",
       "    }\n",
       "</style>\n",
       "<table border=\"1\" class=\"dataframe\">\n",
       "  <thead>\n",
       "    <tr style=\"text-align: right;\">\n",
       "      <th></th>\n",
       "      <th>ability</th>\n",
       "      <th>absolute</th>\n",
       "      <th>accents</th>\n",
       "      <th>access</th>\n",
       "      <th>account</th>\n",
       "      <th>accounts</th>\n",
       "      <th>acknowledgement</th>\n",
       "      <th>action</th>\n",
       "      <th>addition</th>\n",
       "      <th>address</th>\n",
       "      <th>...</th>\n",
       "      <th>words</th>\n",
       "      <th>work</th>\n",
       "      <th>workno</th>\n",
       "      <th>world</th>\n",
       "      <th>year</th>\n",
       "      <th>years</th>\n",
       "      <th>yearspity</th>\n",
       "      <th>yearsshe</th>\n",
       "      <th>youn</th>\n",
       "      <th>youve</th>\n",
       "    </tr>\n",
       "    <tr>\n",
       "      <th>Tags</th>\n",
       "      <th></th>\n",
       "      <th></th>\n",
       "      <th></th>\n",
       "      <th></th>\n",
       "      <th></th>\n",
       "      <th></th>\n",
       "      <th></th>\n",
       "      <th></th>\n",
       "      <th></th>\n",
       "      <th></th>\n",
       "      <th></th>\n",
       "      <th></th>\n",
       "      <th></th>\n",
       "      <th></th>\n",
       "      <th></th>\n",
       "      <th></th>\n",
       "      <th></th>\n",
       "      <th></th>\n",
       "      <th></th>\n",
       "      <th></th>\n",
       "      <th></th>\n",
       "    </tr>\n",
       "  </thead>\n",
       "  <tbody>\n",
       "    <tr>\n",
       "      <th>#Loan#Refund#Overpayment</th>\n",
       "      <td>0</td>\n",
       "      <td>0</td>\n",
       "      <td>0</td>\n",
       "      <td>0</td>\n",
       "      <td>1</td>\n",
       "      <td>0</td>\n",
       "      <td>0</td>\n",
       "      <td>0</td>\n",
       "      <td>0</td>\n",
       "      <td>0</td>\n",
       "      <td>...</td>\n",
       "      <td>0</td>\n",
       "      <td>0</td>\n",
       "      <td>0</td>\n",
       "      <td>0</td>\n",
       "      <td>0</td>\n",
       "      <td>0</td>\n",
       "      <td>0</td>\n",
       "      <td>0</td>\n",
       "      <td>0</td>\n",
       "      <td>0</td>\n",
       "    </tr>\n",
       "    <tr>\n",
       "      <th>#Loan#Payments#SLC</th>\n",
       "      <td>0</td>\n",
       "      <td>0</td>\n",
       "      <td>0</td>\n",
       "      <td>0</td>\n",
       "      <td>0</td>\n",
       "      <td>1</td>\n",
       "      <td>0</td>\n",
       "      <td>0</td>\n",
       "      <td>0</td>\n",
       "      <td>0</td>\n",
       "      <td>...</td>\n",
       "      <td>0</td>\n",
       "      <td>0</td>\n",
       "      <td>0</td>\n",
       "      <td>0</td>\n",
       "      <td>1</td>\n",
       "      <td>0</td>\n",
       "      <td>0</td>\n",
       "      <td>0</td>\n",
       "      <td>0</td>\n",
       "      <td>0</td>\n",
       "    </tr>\n",
       "    <tr>\n",
       "      <th>#Loan#StudentLoan</th>\n",
       "      <td>0</td>\n",
       "      <td>0</td>\n",
       "      <td>0</td>\n",
       "      <td>0</td>\n",
       "      <td>0</td>\n",
       "      <td>0</td>\n",
       "      <td>0</td>\n",
       "      <td>0</td>\n",
       "      <td>0</td>\n",
       "      <td>0</td>\n",
       "      <td>...</td>\n",
       "      <td>0</td>\n",
       "      <td>0</td>\n",
       "      <td>0</td>\n",
       "      <td>0</td>\n",
       "      <td>0</td>\n",
       "      <td>1</td>\n",
       "      <td>0</td>\n",
       "      <td>0</td>\n",
       "      <td>0</td>\n",
       "      <td>0</td>\n",
       "    </tr>\n",
       "    <tr>\n",
       "      <th>#SLC#Loan#customer</th>\n",
       "      <td>0</td>\n",
       "      <td>0</td>\n",
       "      <td>0</td>\n",
       "      <td>0</td>\n",
       "      <td>0</td>\n",
       "      <td>0</td>\n",
       "      <td>0</td>\n",
       "      <td>0</td>\n",
       "      <td>0</td>\n",
       "      <td>0</td>\n",
       "      <td>...</td>\n",
       "      <td>0</td>\n",
       "      <td>0</td>\n",
       "      <td>0</td>\n",
       "      <td>0</td>\n",
       "      <td>0</td>\n",
       "      <td>0</td>\n",
       "      <td>0</td>\n",
       "      <td>0</td>\n",
       "      <td>0</td>\n",
       "      <td>0</td>\n",
       "    </tr>\n",
       "    <tr>\n",
       "      <th>#MaintenanceLoan#Loan#HMRC</th>\n",
       "      <td>0</td>\n",
       "      <td>0</td>\n",
       "      <td>0</td>\n",
       "      <td>0</td>\n",
       "      <td>0</td>\n",
       "      <td>0</td>\n",
       "      <td>0</td>\n",
       "      <td>0</td>\n",
       "      <td>0</td>\n",
       "      <td>0</td>\n",
       "      <td>...</td>\n",
       "      <td>0</td>\n",
       "      <td>0</td>\n",
       "      <td>0</td>\n",
       "      <td>0</td>\n",
       "      <td>0</td>\n",
       "      <td>0</td>\n",
       "      <td>0</td>\n",
       "      <td>0</td>\n",
       "      <td>0</td>\n",
       "      <td>0</td>\n",
       "    </tr>\n",
       "  </tbody>\n",
       "</table>\n",
       "<p>5 rows × 577 columns</p>\n",
       "</div>"
      ],
      "text/plain": [
       "                            ability  absolute  accents  access  account  \\\n",
       "Tags                                                                      \n",
       "#Loan#Refund#Overpayment          0         0        0       0        1   \n",
       "#Loan#Payments#SLC                0         0        0       0        0   \n",
       "#Loan#StudentLoan                 0         0        0       0        0   \n",
       "#SLC#Loan#customer                0         0        0       0        0   \n",
       "#MaintenanceLoan#Loan#HMRC        0         0        0       0        0   \n",
       "\n",
       "                            accounts  acknowledgement  action  addition  \\\n",
       "Tags                                                                      \n",
       "#Loan#Refund#Overpayment           0                0       0         0   \n",
       "#Loan#Payments#SLC                 1                0       0         0   \n",
       "#Loan#StudentLoan                  0                0       0         0   \n",
       "#SLC#Loan#customer                 0                0       0         0   \n",
       "#MaintenanceLoan#Loan#HMRC         0                0       0         0   \n",
       "\n",
       "                            address  ...    words  work  workno  world  year  \\\n",
       "Tags                                 ...                                       \n",
       "#Loan#Refund#Overpayment          0  ...        0     0       0      0     0   \n",
       "#Loan#Payments#SLC                0  ...        0     0       0      0     1   \n",
       "#Loan#StudentLoan                 0  ...        0     0       0      0     0   \n",
       "#SLC#Loan#customer                0  ...        0     0       0      0     0   \n",
       "#MaintenanceLoan#Loan#HMRC        0  ...        0     0       0      0     0   \n",
       "\n",
       "                            years  yearspity  yearsshe  youn  youve  \n",
       "Tags                                                                 \n",
       "#Loan#Refund#Overpayment        0          0         0     0      0  \n",
       "#Loan#Payments#SLC              0          0         0     0      0  \n",
       "#Loan#StudentLoan               1          0         0     0      0  \n",
       "#SLC#Loan#customer              0          0         0     0      0  \n",
       "#MaintenanceLoan#Loan#HMRC      0          0         0     0      0  \n",
       "\n",
       "[5 rows x 577 columns]"
      ]
     },
     "execution_count": 95,
     "metadata": {},
     "output_type": "execute_result"
    }
   ],
   "source": [
    "# Add new stop words\n",
    "add_stop_words = [\"just\",\"told\",'like', 'im', 'know', 'just', 'dont', 'thats', 'right', 'people','youre', 'got', 'gonna', 'time', 'think', 'yeah', 'said',]\n",
    "stop_words = text.ENGLISH_STOP_WORDS.union(add_stop_words)\n",
    "\n",
    "# Recreate document-term matrix\n",
    "cvn = CountVectorizer(stop_words=stop_words)\n",
    "data_cvn_r3 = cvn.fit_transform(data_nouns_r2.Comment)\n",
    "# data_cvn_r\n",
    "data_dtmn_r3 = pd.DataFrame(data_cvn_r3.toarray(), columns=cvn.get_feature_names())\n",
    "data_dtmn_r3.index = data_clean_r.Tags\n",
    "# data_dtmn_r3.head()"
   ]
  },
  {
   "cell_type": "code",
   "execution_count": 96,
   "metadata": {},
   "outputs": [],
   "source": [
    "# Create the gensim corpus\n",
    "corpusn = matutils.Sparse2Corpus(scipy.sparse.csr_matrix(data_dtmn_r3.transpose()))\n",
    "\n",
    "# Create the vocabulary dictionary\n",
    "id2wordn = dict((v, k) for k, v in cvn.vocabulary_.items())"
   ]
  },
  {
   "cell_type": "code",
   "execution_count": 97,
   "metadata": {},
   "outputs": [
    {
     "data": {
      "text/plain": [
       "[(0,\n",
       "  '0.022*\"address\" + 0.018*\"email\" + 0.016*\"loan\" + 0.015*\"slc\" + 0.014*\"student\" + 0.013*\"letters\" + 0.012*\"phone\" + 0.011*\"payment\" + 0.010*\"company\" + 0.010*\"evidence\"'),\n",
       " (1,\n",
       "  '0.024*\"money\" + 0.020*\"loan\" + 0.018*\"year\" + 0.017*\"slc\" + 0.016*\"phone\" + 0.015*\"account\" + 0.013*\"payments\" + 0.012*\"company\" + 0.012*\"rate\" + 0.011*\"service\"')]"
      ]
     },
     "execution_count": 97,
     "metadata": {},
     "output_type": "execute_result"
    }
   ],
   "source": [
    "# Let's start with 2 topics\n",
    "ldan = models.LdaModel(corpus=corpusn, num_topics=2, id2word=id2wordn, passes=10)\n",
    "ldan.print_topics()"
   ]
  },
  {
   "cell_type": "code",
   "execution_count": 98,
   "metadata": {},
   "outputs": [
    {
     "data": {
      "text/plain": [
       "[(0,\n",
       "  '0.025*\"address\" + 0.025*\"email\" + 0.025*\"loan\" + 0.024*\"phone\" + 0.022*\"slc\" + 0.018*\"money\" + 0.016*\"rate\" + 0.014*\"letter\" + 0.013*\"payment\" + 0.012*\"letters\"'),\n",
       " (1,\n",
       "  '0.025*\"money\" + 0.021*\"payments\" + 0.017*\"slc\" + 0.015*\"service\" + 0.015*\"account\" + 0.013*\"year\" + 0.013*\"student\" + 0.010*\"customer\" + 0.010*\"website\" + 0.009*\"payment\"'),\n",
       " (2,\n",
       "  '0.023*\"company\" + 0.017*\"loan\" + 0.015*\"details\" + 0.013*\"year\" + 0.011*\"letters\" + 0.010*\"date\" + 0.009*\"organisation\" + 0.008*\"issue\" + 0.008*\"minutes\" + 0.008*\"tax\"')]"
      ]
     },
     "execution_count": 98,
     "metadata": {},
     "output_type": "execute_result"
    }
   ],
   "source": [
    "# Let's try topics = 3\n",
    "ldan = models.LdaModel(corpus=corpusn, num_topics=3, id2word=id2wordn, passes=10)\n",
    "ldan.print_topics()"
   ]
  },
  {
   "cell_type": "code",
   "execution_count": 99,
   "metadata": {},
   "outputs": [
    {
     "data": {
      "text/plain": [
       "[(0,\n",
       "  '0.025*\"phone\" + 0.023*\"address\" + 0.019*\"student\" + 0.018*\"payment\" + 0.018*\"email\" + 0.010*\"payments\" + 0.010*\"slc\" + 0.010*\"company\" + 0.010*\"evidence\" + 0.008*\"loans\"'),\n",
       " (1,\n",
       "  '0.032*\"year\" + 0.027*\"loan\" + 0.026*\"payments\" + 0.023*\"money\" + 0.019*\"slc\" + 0.015*\"company\" + 0.014*\"account\" + 0.011*\"tax\" + 0.011*\"letter\" + 0.009*\"information\"'),\n",
       " (2,\n",
       "  '0.025*\"letters\" + 0.021*\"email\" + 0.020*\"address\" + 0.016*\"details\" + 0.016*\"slc\" + 0.016*\"loan\" + 0.012*\"touch\" + 0.010*\"money\" + 0.010*\"year\" + 0.010*\"letter\"'),\n",
       " (3,\n",
       "  '0.023*\"money\" + 0.022*\"loan\" + 0.021*\"rate\" + 0.018*\"slc\" + 0.017*\"phone\" + 0.016*\"exchange\" + 0.015*\"company\" + 0.014*\"date\" + 0.012*\"student\" + 0.010*\"service\"')]"
      ]
     },
     "execution_count": 99,
     "metadata": {},
     "output_type": "execute_result"
    }
   ],
   "source": [
    "# Let's try 4 topics\n",
    "ldan = models.LdaModel(corpus=corpusn, num_topics=4, id2word=id2wordn, passes=10)\n",
    "ldan.print_topics()"
   ]
  },
  {
   "cell_type": "markdown",
   "metadata": {},
   "source": [
    "# Topic Modeling - Nouns and Adjectives"
   ]
  },
  {
   "cell_type": "code",
   "execution_count": 100,
   "metadata": {},
   "outputs": [],
   "source": [
    "# Let's create a function to pull out nouns from a string of text\n",
    "def nouns_adj(text):\n",
    "    '''Given a string of text, tokenize the text and pull out only the nouns and adjectives.'''\n",
    "    is_noun_adj = lambda pos: pos[:2] == 'NN' or pos[:2] == 'JJ'\n",
    "    tokenized = word_tokenize(text)\n",
    "    nouns_adj = [word for (word, pos) in pos_tag(tokenized) if is_noun_adj(pos)] \n",
    "    return ' '.join(nouns_adj)"
   ]
  },
  {
   "cell_type": "code",
   "execution_count": 102,
   "metadata": {},
   "outputs": [],
   "source": [
    "# Apply the nouns function to filter only on nouns\n",
    "data_nouns_adj_r2 = pd.DataFrame(data_clean_r2.Comment.apply(nouns_adj))\n",
    "# data_nouns_r2"
   ]
  },
  {
   "cell_type": "code",
   "execution_count": 109,
   "metadata": {},
   "outputs": [
    {
     "data": {
      "text/html": [
       "<div>\n",
       "<style scoped>\n",
       "    .dataframe tbody tr th:only-of-type {\n",
       "        vertical-align: middle;\n",
       "    }\n",
       "\n",
       "    .dataframe tbody tr th {\n",
       "        vertical-align: top;\n",
       "    }\n",
       "\n",
       "    .dataframe thead th {\n",
       "        text-align: right;\n",
       "    }\n",
       "</style>\n",
       "<table border=\"1\" class=\"dataframe\">\n",
       "  <thead>\n",
       "    <tr style=\"text-align: right;\">\n",
       "      <th></th>\n",
       "      <th>abhorrent</th>\n",
       "      <th>ability</th>\n",
       "      <th>able</th>\n",
       "      <th>absolute</th>\n",
       "      <th>abysmal</th>\n",
       "      <th>accents</th>\n",
       "      <th>access</th>\n",
       "      <th>account</th>\n",
       "      <th>accountable</th>\n",
       "      <th>accounts</th>\n",
       "      <th>...</th>\n",
       "      <th>wrong</th>\n",
       "      <th>year</th>\n",
       "      <th>years</th>\n",
       "      <th>yearspity</th>\n",
       "      <th>yearsshe</th>\n",
       "      <th>youdont</th>\n",
       "      <th>youll</th>\n",
       "      <th>youn</th>\n",
       "      <th>young</th>\n",
       "      <th>youve</th>\n",
       "    </tr>\n",
       "    <tr>\n",
       "      <th>Tags</th>\n",
       "      <th></th>\n",
       "      <th></th>\n",
       "      <th></th>\n",
       "      <th></th>\n",
       "      <th></th>\n",
       "      <th></th>\n",
       "      <th></th>\n",
       "      <th></th>\n",
       "      <th></th>\n",
       "      <th></th>\n",
       "      <th></th>\n",
       "      <th></th>\n",
       "      <th></th>\n",
       "      <th></th>\n",
       "      <th></th>\n",
       "      <th></th>\n",
       "      <th></th>\n",
       "      <th></th>\n",
       "      <th></th>\n",
       "      <th></th>\n",
       "      <th></th>\n",
       "    </tr>\n",
       "  </thead>\n",
       "  <tbody>\n",
       "    <tr>\n",
       "      <th>#Loan#Refund#Overpayment</th>\n",
       "      <td>0</td>\n",
       "      <td>0</td>\n",
       "      <td>0</td>\n",
       "      <td>0</td>\n",
       "      <td>0</td>\n",
       "      <td>0</td>\n",
       "      <td>0</td>\n",
       "      <td>1</td>\n",
       "      <td>0</td>\n",
       "      <td>0</td>\n",
       "      <td>...</td>\n",
       "      <td>0</td>\n",
       "      <td>0</td>\n",
       "      <td>0</td>\n",
       "      <td>0</td>\n",
       "      <td>0</td>\n",
       "      <td>0</td>\n",
       "      <td>0</td>\n",
       "      <td>0</td>\n",
       "      <td>0</td>\n",
       "      <td>0</td>\n",
       "    </tr>\n",
       "    <tr>\n",
       "      <th>#Loan#Payments#SLC</th>\n",
       "      <td>0</td>\n",
       "      <td>0</td>\n",
       "      <td>0</td>\n",
       "      <td>0</td>\n",
       "      <td>0</td>\n",
       "      <td>0</td>\n",
       "      <td>0</td>\n",
       "      <td>0</td>\n",
       "      <td>0</td>\n",
       "      <td>1</td>\n",
       "      <td>...</td>\n",
       "      <td>0</td>\n",
       "      <td>1</td>\n",
       "      <td>0</td>\n",
       "      <td>0</td>\n",
       "      <td>0</td>\n",
       "      <td>0</td>\n",
       "      <td>0</td>\n",
       "      <td>0</td>\n",
       "      <td>0</td>\n",
       "      <td>0</td>\n",
       "    </tr>\n",
       "    <tr>\n",
       "      <th>#Loan#StudentLoan</th>\n",
       "      <td>0</td>\n",
       "      <td>0</td>\n",
       "      <td>0</td>\n",
       "      <td>1</td>\n",
       "      <td>0</td>\n",
       "      <td>0</td>\n",
       "      <td>0</td>\n",
       "      <td>0</td>\n",
       "      <td>0</td>\n",
       "      <td>0</td>\n",
       "      <td>...</td>\n",
       "      <td>0</td>\n",
       "      <td>0</td>\n",
       "      <td>1</td>\n",
       "      <td>0</td>\n",
       "      <td>0</td>\n",
       "      <td>0</td>\n",
       "      <td>0</td>\n",
       "      <td>0</td>\n",
       "      <td>0</td>\n",
       "      <td>0</td>\n",
       "    </tr>\n",
       "    <tr>\n",
       "      <th>#SLC#Loan#customer</th>\n",
       "      <td>0</td>\n",
       "      <td>0</td>\n",
       "      <td>0</td>\n",
       "      <td>0</td>\n",
       "      <td>0</td>\n",
       "      <td>0</td>\n",
       "      <td>0</td>\n",
       "      <td>0</td>\n",
       "      <td>0</td>\n",
       "      <td>0</td>\n",
       "      <td>...</td>\n",
       "      <td>0</td>\n",
       "      <td>0</td>\n",
       "      <td>0</td>\n",
       "      <td>0</td>\n",
       "      <td>0</td>\n",
       "      <td>0</td>\n",
       "      <td>0</td>\n",
       "      <td>0</td>\n",
       "      <td>0</td>\n",
       "      <td>0</td>\n",
       "    </tr>\n",
       "    <tr>\n",
       "      <th>#MaintenanceLoan#Loan#HMRC</th>\n",
       "      <td>0</td>\n",
       "      <td>0</td>\n",
       "      <td>0</td>\n",
       "      <td>2</td>\n",
       "      <td>0</td>\n",
       "      <td>0</td>\n",
       "      <td>0</td>\n",
       "      <td>0</td>\n",
       "      <td>0</td>\n",
       "      <td>0</td>\n",
       "      <td>...</td>\n",
       "      <td>0</td>\n",
       "      <td>0</td>\n",
       "      <td>0</td>\n",
       "      <td>0</td>\n",
       "      <td>0</td>\n",
       "      <td>0</td>\n",
       "      <td>0</td>\n",
       "      <td>0</td>\n",
       "      <td>0</td>\n",
       "      <td>0</td>\n",
       "    </tr>\n",
       "  </tbody>\n",
       "</table>\n",
       "<p>5 rows × 785 columns</p>\n",
       "</div>"
      ],
      "text/plain": [
       "                            abhorrent  ability  able  absolute  abysmal  \\\n",
       "Tags                                                                      \n",
       "#Loan#Refund#Overpayment            0        0     0         0        0   \n",
       "#Loan#Payments#SLC                  0        0     0         0        0   \n",
       "#Loan#StudentLoan                   0        0     0         1        0   \n",
       "#SLC#Loan#customer                  0        0     0         0        0   \n",
       "#MaintenanceLoan#Loan#HMRC          0        0     0         2        0   \n",
       "\n",
       "                            accents  access  account  accountable  accounts  \\\n",
       "Tags                                                                          \n",
       "#Loan#Refund#Overpayment          0       0        1            0         0   \n",
       "#Loan#Payments#SLC                0       0        0            0         1   \n",
       "#Loan#StudentLoan                 0       0        0            0         0   \n",
       "#SLC#Loan#customer                0       0        0            0         0   \n",
       "#MaintenanceLoan#Loan#HMRC        0       0        0            0         0   \n",
       "\n",
       "                            ...    wrong  year  years  yearspity  yearsshe  \\\n",
       "Tags                        ...                                              \n",
       "#Loan#Refund#Overpayment    ...        0     0      0          0         0   \n",
       "#Loan#Payments#SLC          ...        0     1      0          0         0   \n",
       "#Loan#StudentLoan           ...        0     0      1          0         0   \n",
       "#SLC#Loan#customer          ...        0     0      0          0         0   \n",
       "#MaintenanceLoan#Loan#HMRC  ...        0     0      0          0         0   \n",
       "\n",
       "                            youdont  youll  youn  young  youve  \n",
       "Tags                                                            \n",
       "#Loan#Refund#Overpayment          0      0     0      0      0  \n",
       "#Loan#Payments#SLC                0      0     0      0      0  \n",
       "#Loan#StudentLoan                 0      0     0      0      0  \n",
       "#SLC#Loan#customer                0      0     0      0      0  \n",
       "#MaintenanceLoan#Loan#HMRC        0      0     0      0      0  \n",
       "\n",
       "[5 rows x 785 columns]"
      ]
     },
     "execution_count": 109,
     "metadata": {},
     "output_type": "execute_result"
    }
   ],
   "source": [
    "# Create a new document-term matrix using only nouns and adjectives, also remove common words with max_df\n",
    "cvna = CountVectorizer(stop_words=stop_words, max_df=.8)\n",
    "data_cvna = cvna.fit_transform(data_nouns_adj_r2.Comment)\n",
    "data_dtmna = pd.DataFrame(data_cvna.toarray(), columns=cvna.get_feature_names())\n",
    "data_dtmna.index = data_clean_r.Tags\n",
    "data_dtmna.head()"
   ]
  },
  {
   "cell_type": "code",
   "execution_count": 110,
   "metadata": {},
   "outputs": [],
   "source": [
    "# Create the gensim corpus\n",
    "corpusna = matutils.Sparse2Corpus(scipy.sparse.csr_matrix(data_dtmna.transpose()))\n",
    "\n",
    "# Create the vocabulary dictionary\n",
    "id2wordna = dict((v, k) for k, v in cvna.vocabulary_.items())"
   ]
  },
  {
   "cell_type": "code",
   "execution_count": 111,
   "metadata": {},
   "outputs": [
    {
     "data": {
      "text/plain": [
       "[(0,\n",
       "  '0.016*\"loan\" + 0.016*\"year\" + 0.013*\"company\" + 0.011*\"email\" + 0.010*\"slc\" + 0.010*\"phone\" + 0.008*\"uk\" + 0.008*\"details\" + 0.007*\"student\" + 0.007*\"evidence\"'),\n",
       " (1,\n",
       "  '0.021*\"money\" + 0.016*\"slc\" + 0.015*\"address\" + 0.012*\"payments\" + 0.012*\"phone\" + 0.011*\"loan\" + 0.011*\"email\" + 0.010*\"letters\" + 0.009*\"website\" + 0.008*\"payment\"')]"
      ]
     },
     "execution_count": 111,
     "metadata": {},
     "output_type": "execute_result"
    }
   ],
   "source": [
    "# Let's start with 2 topics\n",
    "ldana = models.LdaModel(corpus=corpusna, num_topics=2, id2word=id2wordna, passes=10)\n",
    "ldana.print_topics()"
   ]
  },
  {
   "cell_type": "code",
   "execution_count": 112,
   "metadata": {},
   "outputs": [
    {
     "data": {
      "text/plain": [
       "[(0,\n",
       "  '0.017*\"loan\" + 0.015*\"slc\" + 0.014*\"letters\" + 0.012*\"student\" + 0.011*\"year\" + 0.009*\"address\" + 0.009*\"uk\" + 0.009*\"email\" + 0.008*\"company\" + 0.007*\"overseas\"'),\n",
       " (1,\n",
       "  '0.020*\"money\" + 0.019*\"email\" + 0.015*\"payments\" + 0.013*\"address\" + 0.013*\"slc\" + 0.012*\"loan\" + 0.011*\"letter\" + 0.011*\"phone\" + 0.011*\"year\" + 0.009*\"company\"'),\n",
       " (2,\n",
       "  '0.017*\"phone\" + 0.015*\"website\" + 0.013*\"rate\" + 0.013*\"exchange\" + 0.012*\"payment\" + 0.012*\"money\" + 0.012*\"loan\" + 0.011*\"slc\" + 0.009*\"details\" + 0.009*\"company\"')]"
      ]
     },
     "execution_count": 112,
     "metadata": {},
     "output_type": "execute_result"
    }
   ],
   "source": [
    "# Let's try 3 topics\n",
    "ldana = models.LdaModel(corpus=corpusna, num_topics=3, id2word=id2wordna, passes=10)\n",
    "ldana.print_topics()"
   ]
  },
  {
   "cell_type": "code",
   "execution_count": 113,
   "metadata": {},
   "outputs": [
    {
     "data": {
      "text/plain": [
       "[(0,\n",
       "  '0.020*\"loan\" + 0.012*\"letter\" + 0.012*\"date\" + 0.010*\"information\" + 0.010*\"hmrc\" + 0.009*\"letters\" + 0.009*\"address\" + 0.008*\"tax\" + 0.008*\"organisation\" + 0.008*\"slc\"'),\n",
       " (1,\n",
       "  '0.016*\"money\" + 0.014*\"uk\" + 0.013*\"details\" + 0.013*\"slc\" + 0.011*\"company\" + 0.011*\"year\" + 0.011*\"account\" + 0.008*\"phone\" + 0.008*\"letters\" + 0.008*\"payments\"'),\n",
       " (2,\n",
       "  '0.017*\"slc\" + 0.016*\"loan\" + 0.015*\"student\" + 0.012*\"payment\" + 0.010*\"year\" + 0.010*\"company\" + 0.010*\"email\" + 0.010*\"experience\" + 0.009*\"money\" + 0.009*\"number\"'),\n",
       " (3,\n",
       "  '0.019*\"email\" + 0.019*\"address\" + 0.019*\"phone\" + 0.019*\"money\" + 0.016*\"rate\" + 0.016*\"loan\" + 0.014*\"slc\" + 0.012*\"payments\" + 0.010*\"exchange\" + 0.010*\"letter\"')]"
      ]
     },
     "execution_count": 113,
     "metadata": {},
     "output_type": "execute_result"
    }
   ],
   "source": [
    "# Let's try 4 topics\n",
    "ldana = models.LdaModel(corpus=corpusna, num_topics=4, id2word=id2wordna, passes=10)\n",
    "ldana.print_topics()"
   ]
  },
  {
   "cell_type": "code",
   "execution_count": null,
   "metadata": {},
   "outputs": [],
   "source": [
    "# Out of the 3 topic models analysed above, the nouns and adjectives, 2 topic one with LDA seems to classify. So let's pull that down here and run it through some more iterations to get more fine-tuned topics."
   ]
  },
  {
   "cell_type": "code",
   "execution_count": 114,
   "metadata": {},
   "outputs": [
    {
     "data": {
      "text/plain": [
       "[(0,\n",
       "  '0.018*\"money\" + 0.017*\"payments\" + 0.016*\"slc\" + 0.012*\"loan\" + 0.011*\"year\" + 0.010*\"account\" + 0.009*\"student\" + 0.009*\"phone\" + 0.009*\"payment\" + 0.008*\"company\"'),\n",
       " (1,\n",
       "  '0.019*\"email\" + 0.015*\"address\" + 0.015*\"loan\" + 0.012*\"phone\" + 0.011*\"slc\" + 0.010*\"rate\" + 0.010*\"letters\" + 0.009*\"company\" + 0.008*\"money\" + 0.008*\"letter\"')]"
      ]
     },
     "execution_count": 114,
     "metadata": {},
     "output_type": "execute_result"
    }
   ],
   "source": [
    "# Our final LDA model (for now)\n",
    "ldana = models.LdaModel(corpus=corpusna, num_topics=2, id2word=id2wordna, passes=80)\n",
    "ldana.print_topics()"
   ]
  },
  {
   "cell_type": "markdown",
   "metadata": {},
   "source": [
    "# Model Building : "
   ]
  },
  {
   "cell_type": "code",
   "execution_count": 142,
   "metadata": {},
   "outputs": [],
   "source": [
    "def train_model(classifier, train_X_obj, train_Y, test_X_obj, is_neural_net=False):\n",
    "    # fit the training dataset on the classifier\n",
    "    classifier.fit(train_X_obj, label)\n",
    "    \n",
    "    # predict the labels on validation dataset\n",
    "    predictions = classifier.predict(train_Y)\n",
    "    \n",
    "    if is_neural_net:\n",
    "        predictions = predictions.argmax(axis=-1)\n",
    "        \n",
    "    return metrics.accuracy_score(predictions, test_X_obj)"
   ]
  },
  {
   "cell_type": "code",
   "execution_count": null,
   "metadata": {},
   "outputs": [],
   "source": [
    "# Model Building - LDA"
   ]
  },
  {
   "cell_type": "code",
   "execution_count": 140,
   "metadata": {},
   "outputs": [],
   "source": [
    "# X_topics = lda_2.fit_transform(train_y)\n",
    "# valid_y"
   ]
  },
  {
   "cell_type": "code",
   "execution_count": null,
   "metadata": {},
   "outputs": [],
   "source": [
    "# Model Building - "
   ]
  },
  {
   "cell_type": "code",
   "execution_count": null,
   "metadata": {},
   "outputs": [],
   "source": []
  },
  {
   "cell_type": "code",
   "execution_count": 37,
   "metadata": {},
   "outputs": [
    {
     "name": "stderr",
     "output_type": "stream",
     "text": [
      "[nltk_data] Downloading package stopwords to\n",
      "[nltk_data]     C:\\Users\\Mourouguessaner\\AppData\\Roaming\\nltk_data...\n",
      "[nltk_data]   Package stopwords is already up-to-date!\n"
     ]
    }
   ],
   "source": [
    "# import nltk\n",
    "# nltk.download('stopwords')\n",
    "# from nltk.corpus import stopwords\n",
    "# stop = stopwords.words('english')\n",
    "# data_clean_r2 = pd.DataFrame(data_clean_r['Comment'].apply(lambda x: \" \".join(x for x in x.split() if x not in stop)))\n",
    "# data_clean_r2['Tags'] = data_clean_r['Tags']\n",
    "# data_clean_r2['Comment']\n",
    "# freq = pd.Series(' '.join(data_clean_r2['Comment']).split()).value_counts()[:10]\n",
    "# freq\n",
    "# freq1 = pd.Series(' '.join(data_clean_r2['Comment']).split()).value_counts()[-20:]\n",
    "# freq1\n",
    "# freq1 = list(freq1.index)\n",
    "# data_clean_r3 = pd.DataFrame(data_clean_r2['Comment'].apply(lambda x: \" \".join(x for x in x.split() if x not in freq1)))\n",
    "# # data_clean_r3['Comment'].head()\n",
    "# data_clean_r3['Tags'] = data_clean_r['Tags']\n",
    "# from sklearn.feature_extraction.text import CountVectorizer\n",
    "# vectorizer = CountVectorizer(stop_words=stopwords.words('english'))\n",
    "# X = vectorizer.fit_transform(data_clean).toarray()\n",
    "# from sklearn.feature_extraction.text import TfidfVectorizer\n",
    "# tfidfconverter = TfidfVectorizer(stop_words=stopwords.words('english'))\n",
    "# data_clean = tfidfconverter.fit_transform(data_clean).toarray()\n",
    "# data_clean\n",
    "# from sklearn.model_selection import train_test_split\n",
    "# X_train, X_test, y_train, y_test = train_test_split(X, y, test_size=0.2, random_state=0)\n",
    "# from sklearn.feature_extraction.text import CountVectorizer\n",
    "\n",
    "# cv = CountVectorizer(stop_words='english')\n",
    "# data_cv_r = cv.fit_transform(data_clean_r.Comment)\n",
    "# data_dtm_r = pd.DataFrame(data_cv_r.toarray(), columns=cv.get_feature_names())\n",
    "# data_dtm_r.index = data_clean_r.Tags\n",
    "# data_dtm_r.to_pickle(\"dtm_r.pkl\")\n",
    "# data_clean_r.to_pickle('data_clean_r.pkl')\n",
    "# pickle.dump(cv, open(\"cv.pkl\", \"wb\"))"
   ]
  },
  {
   "cell_type": "code",
   "execution_count": 117,
   "metadata": {},
   "outputs": [],
   "source": [
    "# data_dtm\n",
    "# import pandas as pd\n",
    "\n",
    "# data = pd.read_pickle('dtm_r.pkl')\n",
    "# data = data.transpose()\n",
    "# data.tail(10).T\n",
    "# data.columns"
   ]
  },
  {
   "cell_type": "code",
   "execution_count": 105,
   "metadata": {},
   "outputs": [],
   "source": [
    "# top_dict = {}\n",
    "# for c in data.columns:\n",
    "#       top = data[c]\n",
    "        \n",
    "#     top = data[c].sort_values(ascending=False).head(30)\n",
    "#     top_dict[c]= list(zip(top.index, top.values))\n",
    "\n",
    "# top_dict"
   ]
  },
  {
   "cell_type": "code",
   "execution_count": 178,
   "metadata": {},
   "outputs": [],
   "source": [
    "# from sklearn.feature_extraction import text \n",
    "# from sklearn.feature_extraction.text import CountVectorizer\n",
    "\n",
    "# Read in cleaned data\n",
    "# data_clean_r = pd.read_pickle('data_clean_r.pkl')\n",
    "\n",
    "# Add new stop words\n",
    "# add_stop_words = [\"slc\",\"student\",\"money\",\"pay\",\"email\",\"phone\",\"just\",\"year\",\"letter\",\"paid\",\"address\",\"told\"]\n",
    "# stop_words = text.ENGLISH_STOP_WORDS.union(add_stop_words)\n",
    "\n",
    "# Recreate document-term matrix\n",
    "# cv = CountVectorizer(stop_words=stop_words)\n",
    "# data_cv_r = cv.fit_transform(data_clean_r.Comment)\n",
    "# data_stop_r = pd.DataFrame(data_cv_r.toarray(), columns=cv.get_feature_names())\n",
    "# data_stop_r.index = data_clean_r.Tags\n",
    "\n",
    "# Pickle it for later use\n",
    "# import pickle\n",
    "# pickle.dump(cv, open(\"cv_stop_r.pkl\", \"wb\"))\n",
    "# data_stop_r.to_pickle(\"dtm_stop_r.pkl\")"
   ]
  },
  {
   "cell_type": "code",
   "execution_count": 84,
   "metadata": {},
   "outputs": [],
   "source": [
    "# data_stop_r\n",
    "# from gensim import matutils, models\n",
    "# import scipy.sparse\n",
    "# tdm_r = data_stop_r.transpose()\n",
    "# tdm_r.head()"
   ]
  },
  {
   "cell_type": "code",
   "execution_count": 156,
   "metadata": {},
   "outputs": [],
   "source": [
    "# sparse_counts = scipy.sparse.csr_matrix(tdm_r)\n",
    "# corpus = matutils.Sparse2Corpus(sparse_counts)\n",
    "# id2word = dict((v, k) for k, v in cv.vocabulary_.items())\n",
    "# lda = models.LdaModel(corpus=corpus, id2word=id2word, num_topics=5, passes=10)\n",
    "# lda.print_topics()"
   ]
  },
  {
   "cell_type": "code",
   "execution_count": 222,
   "metadata": {},
   "outputs": [],
   "source": [
    "# from sklearn.feature_extraction import text \n",
    "# from sklearn.feature_extraction.text import CountVectorizer\n",
    "\n",
    "# Read in cleaned data\n",
    "# data_clean_r = pd.read_pickle('data_clean_r.pkl')\n",
    "# data_clean_r\n",
    "\n",
    "# data_nouns_r = pd.DataFrame(data_clean_r.Comment.apply(nouns))\n",
    "# data_clean_r.Tags\n",
    "# data_nouns_r"
   ]
  },
  {
   "cell_type": "code",
   "execution_count": 223,
   "metadata": {},
   "outputs": [],
   "source": [
    "# Add new stop words\n",
    "# add_stop_words = [\"student\",\"money\",\"pay\",\"email\",\"phone\",\"just\",\"year\",\"letter\",\"paid\",\"address\",\"told\",'like', 'im', 'know', 'just', 'dont', 'thats', 'right', 'people',\n",
    "#                   'youre', 'got', 'gonna', 'time', 'think', 'yeah', 'said','uk','contact']\n",
    "# stop_words = text.ENGLISH_STOP_WORDS.union(add_stop_words)\n",
    "\n",
    "# Recreate document-term matrix\n",
    "# cvn = CountVectorizer(stop_words=stop_words)\n",
    "# data_cvn_r = cvn.fit_transform(data_nouns_r.Comment)\n",
    "# data_cvn_r\n",
    "# data_dtmn_r = pd.DataFrame(data_cvn_r.toarray(), columns=cvn.get_feature_names())\n",
    "# data_dtmn_r.index = data_clean_r.Tags\n",
    "# data_dtmn_r\n"
   ]
  },
  {
   "cell_type": "code",
   "execution_count": 224,
   "metadata": {},
   "outputs": [],
   "source": [
    "# Create the gensim corpus\n",
    "# corpusn_r = matutils.Sparse2Corpus(scipy.sparse.csr_matrix(data_dtmn_r.transpose()))\n",
    "\n",
    "# Create the vocabulary dictionary\n",
    "# id2wordn = dict((v, k) for k, v in cvn.vocabulary_.items())"
   ]
  },
  {
   "cell_type": "code",
   "execution_count": 131,
   "metadata": {},
   "outputs": [],
   "source": [
    "# lda = models.LdaModel(corpus=corpus, id2word=id2word, num_topics=6, passes=10)\n",
    "# lda.print_topics()"
   ]
  },
  {
   "cell_type": "code",
   "execution_count": 132,
   "metadata": {},
   "outputs": [],
   "source": [
    "# corpus_transformed = lda[corpus]\n",
    "# list(zip([a for [(a,b)] in corpus_transformed], data_dtmna_r.index))"
   ]
  },
  {
   "cell_type": "code",
   "execution_count": 2,
   "metadata": {},
   "outputs": [],
   "source": [
    "# from sklearn import model_selection, preprocessing, linear_model, naive_bayes, metrics, svm\n",
    "# from sklearn.feature_extraction.text import TfidfVectorizer, CountVectorizer\n",
    "# from sklearn import decomposition, ensemble\n",
    "\n",
    "# import pandas, xgboost, numpy, textblob, string\n",
    "# from keras.preprocessing import text, sequence\n",
    "# from keras import layers, models, optimizers"
   ]
  },
  {
   "cell_type": "code",
   "execution_count": 18,
   "metadata": {},
   "outputs": [],
   "source": [
    "# trainDF = pd.read_excel(\"feedback.xlsx\")\n",
    "# trainDF.replace('\\n','', regex=True, inplace = True)\n",
    "# trainDF['Tags'].replace(np.NaN, '#slc', inplace = True)"
   ]
  },
  {
   "cell_type": "code",
   "execution_count": 19,
   "metadata": {},
   "outputs": [],
   "source": [
    "# train_x, valid_x, train_y, valid_y = model_selection.train_test_split(trainDF['Comment'], trainDF['Tags'])"
   ]
  },
  {
   "cell_type": "code",
   "execution_count": 133,
   "metadata": {},
   "outputs": [],
   "source": [
    "# label encode the target variable \n",
    "# encoder = preprocessing.LabelEncoder()\n",
    "# train_y = encoder.fit_transform(train_y)\n",
    "# valid_y = encoder.fit_transform(valid_y)\n",
    "# valid_y"
   ]
  },
  {
   "cell_type": "code",
   "execution_count": 134,
   "metadata": {},
   "outputs": [],
   "source": [
    "# word level tf-idf\n",
    "# tfidf_vect = TfidfVectorizer(analyzer='word', token_pattern=r'\\w{1,}', max_features=5000)\n",
    "# tfidf_vect.fit(trainDF['Comment'])\n",
    "# xtrain_tfidf =  tfidf_vect.transform(train_x)\n",
    "# xvalid_tfidf =  tfidf_vect.transform(valid_x)"
   ]
  }
 ],
 "metadata": {
  "kernelspec": {
   "display_name": "Python 3",
   "language": "python",
   "name": "python3"
  },
  "language_info": {
   "codemirror_mode": {
    "name": "ipython",
    "version": 3
   },
   "file_extension": ".py",
   "mimetype": "text/x-python",
   "name": "python",
   "nbconvert_exporter": "python",
   "pygments_lexer": "ipython3",
   "version": "3.7.1"
  }
 },
 "nbformat": 4,
 "nbformat_minor": 2
}
